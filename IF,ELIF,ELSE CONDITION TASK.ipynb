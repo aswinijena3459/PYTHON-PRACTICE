{
 "cells": [
  {
   "cell_type": "markdown",
   "metadata": {},
   "source": [
    "### Task9\n",
    "Ask 2 numbers from users and store it in num1 and num2\n",
    "\n",
    "Ask user to press 1 for addition,2 for subtraction,3 for multiplication and 4 for division\n",
    "\n",
    "based on number given by user do the math operation"
   ]
  },
  {
   "cell_type": "code",
   "execution_count": 4,
   "metadata": {},
   "outputs": [
    {
     "name": "stdout",
     "output_type": "stream",
     "text": [
      "Enter any integer: 15\n",
      "Enter any integer: 5\n",
      "Select operation by Entering 1 for Addition,2 for Subtraction,3 for Multiplication,4 for Division: 4\n",
      "Division of both numbers is =  3.0\n"
     ]
    }
   ],
   "source": [
    "num1=int(input(\"Enter any integer: \"))\n",
    "num2=int(input(\"Enter any integer: \"))\n",
    "operation=input(\"Select operation by Entering 1 for Addition,2 for Subtraction,3 for Multiplication,4 for Division: \")\n",
    "\n",
    "if operation==1:\n",
    "    print(\"Addition of both number is=\",num1+num2)\n",
    "elif operation==2:\n",
    "    print(\"Subtraction of both number is=\",num1-num2)\n",
    "elif operation==3:\n",
    "    print(\"Multiplication of both number is=\",num1*num2)\n",
    "else:\n",
    "    print(\"Division of both numbers is = \", float(num1/num2))"
   ]
  },
  {
   "cell_type": "code",
   "execution_count": null,
   "metadata": {},
   "outputs": [],
   "source": []
  }
 ],
 "metadata": {
  "kernelspec": {
   "display_name": "Python 3",
   "language": "python",
   "name": "python3"
  },
  "language_info": {
   "codemirror_mode": {
    "name": "ipython",
    "version": 3
   },
   "file_extension": ".py",
   "mimetype": "text/x-python",
   "name": "python",
   "nbconvert_exporter": "python",
   "pygments_lexer": "ipython3",
   "version": "3.7.6"
  }
 },
 "nbformat": 4,
 "nbformat_minor": 4
}
